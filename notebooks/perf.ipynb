{
 "cells": [
  {
   "cell_type": "code",
   "execution_count": 1,
   "metadata": {},
   "outputs": [],
   "source": [
    "import pickle as pkl\n",
    "from fragments.params import ParamStorage\n",
    "from fragments.strategy import ConditionalStrategy\n",
    "from fragments.indicators import RSI, Indicator\n",
    "import cProfile"
   ]
  },
  {
   "cell_type": "code",
   "execution_count": 2,
   "metadata": {},
   "outputs": [
    {
     "name": "stdout",
     "output_type": "stream",
     "text": [
      "         10485239 function calls in 6.221 seconds\n",
      "\n",
      "   Ordered by: standard name\n",
      "\n",
      "   ncalls  tottime  percall  cumtime  percall filename:lineno(function)\n",
      "        1    0.000    0.000    6.221    6.221 <string>:1(<module>)\n",
      "  2621308    1.121    0.000    1.121    0.000 indicators.py:69(forward)\n",
      "        1    0.538    0.538    6.221    6.221 strategy.py:150(forward_all)\n",
      "  2621308    1.802    0.000    5.683    0.000 strategy.py:155(forward)\n",
      "  2621308    0.683    0.000    0.683    0.000 strategy.py:89(forward)\n",
      "        1    0.000    0.000    6.221    6.221 {built-in method builtins.exec}\n",
      "        3    0.000    0.000    0.000    0.000 {built-in method math.isnan}\n",
      "  2621308    2.076    0.000    3.197    0.000 {fragments.cproc.forward_conditional}\n",
      "        1    0.000    0.000    0.000    0.000 {method 'disable' of '_lsprof.Profiler' objects}\n",
      "\n",
      "\n"
     ]
    }
   ],
   "source": [
    "param_storage = ParamStorage()\n",
    "with open(\"../data/BTCUSDT.pkl\", \"rb\") as f:\n",
    "    ohlcv_list = pkl.load(f)\n",
    "Indicator.enable_precalculation(ohlcv_list)\n",
    "strategy = ConditionalStrategy(RSI(param_storage), param_storage)\n",
    "cProfile.runctx(\"strategy.forward_all(ohlcv_list)\", globals(), locals())\n",
    "Indicator.disable_precalculation()"
   ]
  }
 ],
 "metadata": {
  "kernelspec": {
   "display_name": "Python 3 (ipykernel)",
   "language": "python",
   "name": "python3"
  },
  "language_info": {
   "codemirror_mode": {
    "name": "ipython",
    "version": 3
   },
   "file_extension": ".py",
   "mimetype": "text/x-python",
   "name": "python",
   "nbconvert_exporter": "python",
   "pygments_lexer": "ipython3",
   "version": "3.10.7"
  },
  "vscode": {
   "interpreter": {
    "hash": "5966566de238641370a5300bc5d1e91c6e46edf6e58cf22ed6254ae74df9bb6c"
   }
  }
 },
 "nbformat": 4,
 "nbformat_minor": 2
}
