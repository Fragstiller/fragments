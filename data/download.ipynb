{
 "cells": [
  {
   "cell_type": "code",
   "execution_count": 7,
   "metadata": {},
   "outputs": [],
   "source": [
    "import yfinance as yf\n",
    "import pickle as pkl"
   ]
  },
  {
   "cell_type": "code",
   "execution_count": 10,
   "metadata": {},
   "outputs": [],
   "source": [
    "goog = yf.Ticker(\"GOOG\")\n",
    "hist = goog.history(period=\"1y\")\n",
    "hist_list = list(zip(hist[\"Open\"], hist[\"High\"], hist[\"Low\"], hist[\"Close\"], hist[\"Volume\"]))\n",
    "with open(\"GOOG.pkl\", \"wb\") as f:\n",
    "    pkl.dump(hist_list, f)"
   ]
  }
 ],
 "metadata": {
  "kernelspec": {
   "display_name": "Python 3",
   "language": "python",
   "name": "python3"
  },
  "language_info": {
   "codemirror_mode": {
    "name": "ipython",
    "version": 3
   },
   "file_extension": ".py",
   "mimetype": "text/x-python",
   "name": "python",
   "nbconvert_exporter": "python",
   "pygments_lexer": "ipython3",
   "version": "3.10.7"
  },
  "orig_nbformat": 4,
  "vscode": {
   "interpreter": {
    "hash": "5966566de238641370a5300bc5d1e91c6e46edf6e58cf22ed6254ae74df9bb6c"
   }
  }
 },
 "nbformat": 4,
 "nbformat_minor": 2
}
