{
 "cells": [
  {
   "cell_type": "code",
   "execution_count": 1,
   "metadata": {},
   "outputs": [],
   "source": [
    "import yfinance as yf\n",
    "import pickle as pkl"
   ]
  },
  {
   "cell_type": "code",
   "execution_count": 10,
   "metadata": {},
   "outputs": [],
   "source": [
    "goog = yf.Ticker(\"GOOG\")\n",
    "hist = goog.history(period=\"1y\")\n",
    "hist_list = list(zip(hist[\"Open\"], hist[\"High\"], hist[\"Low\"], hist[\"Close\"], hist[\"Volume\"]))\n",
    "with open(\"GOOG.pkl\", \"wb\") as f:\n",
    "    pkl.dump(hist_list, f)"
   ]
  },
  {
   "cell_type": "code",
   "execution_count": 2,
   "metadata": {},
   "outputs": [],
   "source": [
    "aapl = yf.Ticker(\"AAPL\")\n",
    "hist = aapl.history(period=\"1y\", interval=\"1h\")\n",
    "hist_list = list(zip(hist[\"Open\"], hist[\"High\"], hist[\"Low\"], hist[\"Close\"], hist[\"Volume\"]))\n",
    "with open(\"AAPL.pkl\", \"wb\") as f:\n",
    "    pkl.dump(hist_list, f)"
   ]
  },
  {
   "cell_type": "code",
   "execution_count": 4,
   "metadata": {},
   "outputs": [
    {
     "name": "stdout",
     "output_type": "stream",
     "text": [
      "AMZN: 15m data not available for startTime=1609816515 and endTime=1672888515. The requested range must be within the last 60 days.\n"
     ]
    }
   ],
   "source": [
    "amzn = yf.Ticker(\"AMZN\")\n",
    "hist = amzn.history(period=\"2y\", interval=\"1h\")\n",
    "hist_list = list(zip(hist[\"Open\"], hist[\"High\"], hist[\"Low\"], hist[\"Close\"], hist[\"Volume\"]))\n",
    "with open(\"AMZN.pkl\", \"wb\") as f:\n",
    "    pkl.dump(hist_list, f)"
   ]
  }
 ],
 "metadata": {
  "kernelspec": {
   "display_name": "Python 3",
   "language": "python",
   "name": "python3"
  },
  "language_info": {
   "codemirror_mode": {
    "name": "ipython",
    "version": 3
   },
   "file_extension": ".py",
   "mimetype": "text/x-python",
   "name": "python",
   "nbconvert_exporter": "python",
   "pygments_lexer": "ipython3",
   "version": "3.10.7"
  },
  "orig_nbformat": 4,
  "vscode": {
   "interpreter": {
    "hash": "5966566de238641370a5300bc5d1e91c6e46edf6e58cf22ed6254ae74df9bb6c"
   }
  }
 },
 "nbformat": 4,
 "nbformat_minor": 2
}
