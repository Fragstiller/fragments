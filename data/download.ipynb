{
 "cells": [
  {
   "cell_type": "code",
   "execution_count": 2,
   "metadata": {},
   "outputs": [],
   "source": [
    "import yfinance as yf\n",
    "import pickle as pkl\n",
    "import numpy as np\n",
    "import binance\n",
    "import time\n",
    "from datetime import date"
   ]
  },
  {
   "cell_type": "code",
   "execution_count": null,
   "metadata": {},
   "outputs": [],
   "source": [
    "goog = yf.Ticker(\"GOOG\")\n",
    "hist = goog.history(period=\"1y\")\n",
    "hist_list = list(zip(hist[\"Open\"], hist[\"High\"], hist[\"Low\"], hist[\"Close\"], hist[\"Volume\"]))\n",
    "with open(\"GOOG.pkl\", \"wb\") as f:\n",
    "    pkl.dump(hist_list, f)"
   ]
  },
  {
   "cell_type": "code",
   "execution_count": null,
   "metadata": {},
   "outputs": [],
   "source": [
    "aapl = yf.Ticker(\"AAPL\")\n",
    "hist = aapl.history(period=\"1y\", interval=\"1h\")\n",
    "hist_list = list(zip(hist[\"Open\"], hist[\"High\"], hist[\"Low\"], hist[\"Close\"], hist[\"Volume\"]))\n",
    "with open(\"AAPL.pkl\", \"wb\") as f:\n",
    "    pkl.dump(hist_list, f)"
   ]
  },
  {
   "cell_type": "code",
   "execution_count": null,
   "metadata": {},
   "outputs": [],
   "source": [
    "amzn = yf.Ticker(\"AMZN\")\n",
    "hist = amzn.history(period=\"2y\", interval=\"1h\")\n",
    "hist_list = list(zip(hist[\"Open\"], hist[\"High\"], hist[\"Low\"], hist[\"Close\"], hist[\"Volume\"]))\n",
    "with open(\"AMZN.pkl\", \"wb\") as f:\n",
    "    pkl.dump(hist_list, f)"
   ]
  },
  {
   "cell_type": "code",
   "execution_count": 2,
   "metadata": {},
   "outputs": [],
   "source": [
    "client = binance.Client()\n",
    "hist = client.get_historical_klines(\"BTCUSDT\",\n",
    "                                    binance.Client.KLINE_INTERVAL_1MINUTE,\n",
    "                                    str(date(2017, 9, 20)),\n",
    "                                    str(date(2022, 9, 20)))\n",
    "hist_list = [tuple(i) for i in np.asarray(hist, dtype=float)[:,1:6].tolist()]\n",
    "\n",
    "with open(\"BTCUSDT.pkl\", \"wb\") as f:\n",
    "    pkl.dump(hist_list, f)"
   ]
  }
 ],
 "metadata": {
  "kernelspec": {
   "display_name": "Python 3",
   "language": "python",
   "name": "python3"
  },
  "language_info": {
   "codemirror_mode": {
    "name": "ipython",
    "version": 3
   },
   "file_extension": ".py",
   "mimetype": "text/x-python",
   "name": "python",
   "nbconvert_exporter": "python",
   "pygments_lexer": "ipython3",
   "version": "3.10.7 (tags/v3.10.7:6cc6b13, Sep  5 2022, 14:08:36) [MSC v.1933 64 bit (AMD64)]"
  },
  "orig_nbformat": 4,
  "vscode": {
   "interpreter": {
    "hash": "5966566de238641370a5300bc5d1e91c6e46edf6e58cf22ed6254ae74df9bb6c"
   }
  }
 },
 "nbformat": 4,
 "nbformat_minor": 2
}
